{
 "cells": [
  {
   "cell_type": "code",
   "execution_count": null,
   "metadata": {},
   "outputs": [],
   "source": [
    "import torch\n",
    "import numpy as np\n",
    "import matplotlib.pyplot as plt\n",
    "from skimage.draw import disk\n",
    "from sh import SH"
   ]
  },
  {
   "cell_type": "code",
   "execution_count": null,
   "metadata": {},
   "outputs": [],
   "source": [
    "m = 5\n",
    "image = torch.zeros((m, m))\n",
    "image[1:4, 1:4] = 1\n",
    "image[1, 1] = 0\n",
    "image[3, 3] = 0\n",
    "\n",
    "plt.imshow(image)"
   ]
  },
  {
   "cell_type": "code",
   "execution_count": null,
   "metadata": {},
   "outputs": [],
   "source": [
    "sh = SH(image)\n",
    "mst, parent = sh.build(k=3)\n",
    "print(parent)"
   ]
  },
  {
   "cell_type": "code",
   "execution_count": null,
   "metadata": {},
   "outputs": [],
   "source": [
    "mst, parent, feature = hierarchical_superpixel(image)\n",
    "print(mst)\n",
    "print(parent)\n",
    "print(feature)"
   ]
  },
  {
   "cell_type": "code",
   "execution_count": null,
   "metadata": {},
   "outputs": [],
   "source": [
    "n = 16\n",
    "m = 10\n",
    "image = torch.zeros((n, 10))\n",
    "rr, cc = disk(center=(n // 2, m // 2), radius=n // 4, shape=(n, m))\n",
    "image[rr, cc] = 1\n",
    "plt.imshow(image)\n",
    "plt.show()"
   ]
  },
  {
   "cell_type": "code",
   "execution_count": null,
   "metadata": {},
   "outputs": [],
   "source": [
    "feature = hierarchical_superpixel(image)\n",
    "\n",
    "for level in feature:\n",
    "    assignment = torch.zeros_like(image)\n",
    "    for l, f in level.items():\n",
    "        f = torch.tensor(f)\n",
    "        i, j = torch.div(torch.tensor(f), m, rounding_mode=\"floor\"), torch.remainder(\n",
    "            torch.tensor(f), m\n",
    "        )\n",
    "        assignment[i, j] = torch.tensor(l).float()\n",
    "    plt.imshow(assignment)\n",
    "    plt.axis(\"off\")\n",
    "    plt.show()\n",
    "    plt.close()"
   ]
  },
  {
   "cell_type": "code",
   "execution_count": null,
   "metadata": {},
   "outputs": [],
   "source": [
    "image = torch.zeros((8, 16))\n",
    "image[2:6, 2:6] = 1\n",
    "image[3:5, 3:5] = 1.25\n",
    "image[2:3, 10:12] = 1\n",
    "image[2:3, 12:14] = 1.25\n",
    "image[5:6, 10:12] = 1\n",
    "image[5:6, 12:14] = 1.25\n",
    "\n",
    "plt.imshow(image)\n",
    "plt.axis(\"off\")\n",
    "plt.show()"
   ]
  },
  {
   "cell_type": "code",
   "execution_count": null,
   "metadata": {},
   "outputs": [],
   "source": [
    "feature = hierarchical_superpixel(image)\n",
    "\n",
    "for level in feature:\n",
    "    assignment = torch.zeros_like(image)\n",
    "    for l, f in level.items():\n",
    "        f = torch.tensor(f)\n",
    "        i, j = torch.div(torch.tensor(f), 16, rounding_mode=\"floor\"), torch.remainder(\n",
    "            torch.tensor(f), 16\n",
    "        )\n",
    "        assignment[i, j] = torch.tensor(l).float()\n",
    "    plt.imshow(assignment)\n",
    "    plt.axis(\"off\")\n",
    "    plt.show()\n",
    "    plt.close()"
   ]
  },
  {
   "cell_type": "code",
   "execution_count": null,
   "metadata": {},
   "outputs": [],
   "source": []
  }
 ],
 "metadata": {
  "kernelspec": {
   "display_name": "Python 3.10.4 ('cuda102')",
   "language": "python",
   "name": "python3"
  },
  "language_info": {
   "codemirror_mode": {
    "name": "ipython",
    "version": 3
   },
   "file_extension": ".py",
   "mimetype": "text/x-python",
   "name": "python",
   "nbconvert_exporter": "python",
   "pygments_lexer": "ipython3",
   "version": "3.10.4"
  },
  "vscode": {
   "interpreter": {
    "hash": "bd8c972ecb72e669b05b9af0bbaad01a2103da39053b5ad2ceb924e75319f022"
   }
  }
 },
 "nbformat": 4,
 "nbformat_minor": 2
}
