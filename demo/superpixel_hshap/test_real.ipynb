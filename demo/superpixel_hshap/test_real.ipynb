{
 "cells": [
  {
   "cell_type": "code",
   "execution_count": null,
   "metadata": {},
   "outputs": [],
   "source": [
    "import torch\n",
    "import torchvision.transforms.functional as tf\n",
    "import numpy as np\n",
    "import matplotlib.pyplot as plt\n",
    "from skimage.segmentation import mark_boundaries\n",
    "from hierarchical_superpixel import hierarchical_superpixel"
   ]
  },
  {
   "cell_type": "code",
   "execution_count": null,
   "metadata": {},
   "outputs": [],
   "source": [
    "def window(img: torch.Tensor, WL: int, WW: int) -> torch.Tensor:\n",
    "    \"\"\"\n",
    "    A function that windows the values of an image at level\n",
    "    `WL` with width `WW` (in Hounsfield Units).\n",
    "\n",
    "    Parameters:\n",
    "    -----------\n",
    "    img: np.ndarray\n",
    "        The image to window.\n",
    "    WL: int\n",
    "        The window level.\n",
    "    WW: int\n",
    "        The window width.\n",
    "    \"\"\"\n",
    "    image_min = WL - WW // 2\n",
    "    image_max = WL + WW // 2\n",
    "    img[img < image_min] = image_min\n",
    "    img[img > image_max] = image_max\n",
    "\n",
    "    img = (img - image_min) / (image_max - image_min)\n",
    "\n",
    "    return img"
   ]
  },
  {
   "cell_type": "code",
   "execution_count": null,
   "metadata": {},
   "outputs": [],
   "source": [
    "image = torch.tensor(np.load(\"image.npy\")).float()\n",
    "image = window(image, 40, 80)\n",
    "image = tf.resize(image.unsqueeze(0), (256, 256))\n",
    "image = image.squeeze()\n",
    "\n",
    "\n",
    "mst, parent, feature = hierarchical_superpixel(image, k=4)"
   ]
  },
  {
   "cell_type": "code",
   "execution_count": null,
   "metadata": {},
   "outputs": [],
   "source": [
    "print(parent)"
   ]
  },
  {
   "cell_type": "code",
   "execution_count": null,
   "metadata": {},
   "outputs": [],
   "source": []
  }
 ],
 "metadata": {
  "kernelspec": {
   "display_name": "Python 3.10.4 ('cuda102')",
   "language": "python",
   "name": "python3"
  },
  "language_info": {
   "codemirror_mode": {
    "name": "ipython",
    "version": 3
   },
   "file_extension": ".py",
   "mimetype": "text/x-python",
   "name": "python",
   "nbconvert_exporter": "python",
   "pygments_lexer": "ipython3",
   "version": "3.10.4"
  },
  "vscode": {
   "interpreter": {
    "hash": "bd8c972ecb72e669b05b9af0bbaad01a2103da39053b5ad2ceb924e75319f022"
   }
  }
 },
 "nbformat": 4,
 "nbformat_minor": 2
}
