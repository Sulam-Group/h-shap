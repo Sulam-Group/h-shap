{
 "cells": [
  {
   "attachments": {},
   "cell_type": "markdown",
   "metadata": {},
   "source": [
    "# Explaining the Predictions of a Convolutional Neural Network on Blood Smears with Different Methods\n",
    "\n",
    "[![Open In Colab](https://colab.research.google.com/assets/colab-badge.svg)](https://colab.research.google.com/github/Sulam-Group/h-shap/blob/jaco/chembe_ml/demo/BBBC041/explain_compare.ipynb)\n",
    "\n",
    "## Task\n",
    "\n",
    "To explain the predictions of a convolutional neural network trained to predict the presence of trophozoites (o.e., malaria infected cells) in human blood smears. The network was trained on the [BBBC041 dataset](https://data.broadinstitute.org/bbbc/BBBC041/).\n",
    "\n",
    "## Requirements\n",
    "\n"
   ]
  },
  {
   "attachments": {},
   "cell_type": "markdown",
   "metadata": {},
   "source": [
    "## Load the model"
   ]
  },
  {
   "cell_type": "code",
   "execution_count": null,
   "metadata": {},
   "outputs": [],
   "source": [
    "import torch\n",
    "\n",
    "# Define the device to run on\n",
    "device = torch.device(\"cuda\" if torch.cuda.is_available() else \"cpu\")\n",
    "\n",
    "# Load pretrained model\n",
    "torch.set_grad_enabled(False)\n",
    "model = torch.hub.load(\n",
    "    \"Sulam-Group/h-shap:jaco/chembe_ml\", \"bbbc041trophozoitenet\", trust_repo=\"check\"\n",
    ")\n",
    "model = model.to(device)\n",
    "model.eval()"
   ]
  }
 ],
 "metadata": {
  "kernelspec": {
   "display_name": "cuda116",
   "language": "python",
   "name": "python3"
  },
  "language_info": {
   "codemirror_mode": {
    "name": "ipython",
    "version": 3
   },
   "file_extension": ".py",
   "mimetype": "text/x-python",
   "name": "python",
   "nbconvert_exporter": "python",
   "pygments_lexer": "ipython3",
   "version": "3.10.9"
  }
 },
 "nbformat": 4,
 "nbformat_minor": 2
}
