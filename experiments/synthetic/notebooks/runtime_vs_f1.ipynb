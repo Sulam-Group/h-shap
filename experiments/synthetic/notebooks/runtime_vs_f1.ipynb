{
 "cells": [
  {
   "cell_type": "code",
   "execution_count": null,
   "metadata": {},
   "outputs": [],
   "source": [
    "import os\n",
    "import pandas as pd\n",
    "import seaborn as sns\n",
    "import matplotlib.pyplot as plt\n",
    "from tqdm import tqdm\n",
    "\n",
    "root_dir = \"../\"\n",
    "explanation_dir = os.path.join(root_dir, \"explanations\")\n",
    "data_dir = os.path.join(root_dir, \"data\")\n",
    "figure_dir = os.path.join(data_dir, \"figures\", \"runtime_vs_f1\")\n",
    "os.makedirs(figure_dir, exist_ok=True)\n",
    "\n",
    "exp_mapper = {\n",
    "    \"hexp/absolute_0\": r\"h-Shap ($\\tau = 0$)\",\n",
    "    \"hexp/relative_70\": r\"h-Shap ($\\tau=70\\%$)\",\n",
    "    \"gradexp\": r\"GradientExp\",\n",
    "    \"deepexp\": r\"DeepExp\",\n",
    "    \"partexp/500\": r\"PartitionExp ($m = 500$)\",\n",
    "    \"partexp/64\": r\"PartitionExp ($m = 64$)\",\n",
    "    \"partexp/32\": r\"PartitionExp ($m = 32$)\",\n",
    "    \"partexp/16\": r\"PartitionExp ($m = 16$)\",\n",
    "    \"gradcam\": r\"Grad-CAM\",\n",
    "    \"lime\": r\"LIME\",\n",
    "}"
   ]
  },
  {
   "cell_type": "code",
   "execution_count": null,
   "metadata": {},
   "outputs": [],
   "source": [
    "sns.set_theme()\n",
    "sns.set_context(\"paper\", font_scale=1.5)\n",
    "\n",
    "for n in [1, 6]:\n",
    "    df_clips = []\n",
    "    for exp_name in tqdm(exp_mapper.keys()):\n",
    "        df = pd.read_csv(os.path.join(explanation_dir, exp_name, f\"f1_scores_{n}.csv\"))\n",
    "        df_clips.append(df)\n",
    "    df = pd.concat(df_clips, axis=0)\n",
    "\n",
    "    sns.scatterplot(data=df, x=\"comp_time\", y=\"score\", hue=\"exp_title\", legend=True)\n",
    "    plt.xlabel(r\"Computation time ($s$)\")\n",
    "    plt.ylabel(r\"$f_1$ score\")\n",
    "    plt.title(r\"$n=%d$\" % n)\n",
    "    plt.xscale(\"log\")\n",
    "    plt.yscale(\"log\")\n",
    "    plt.ylim([1e-03, 1])\n",
    "    legend = plt.legend(bbox_to_anchor=(1.04, 1), loc=\"upper left\", title=r\"Explainer\")\n",
    "\n",
    "    plt.savefig(os.path.join(figure_dir, f\"f1_runtime_{n}.jpg\"), bbox_inches=\"tight\")\n",
    "    plt.savefig(os.path.join(figure_dir, f\"f1_runtime_{n}.pdf\"), bbox_inches=\"tight\")\n",
    "    plt.show()\n",
    "    plt.close()"
   ]
  },
  {
   "cell_type": "code",
   "execution_count": null,
   "metadata": {},
   "outputs": [],
   "source": []
  }
 ],
 "metadata": {
  "interpreter": {
   "hash": "de6699382d6157d4406df0aa53977b1f1d94325d502f0919976bd9c9ace01e67"
  },
  "kernelspec": {
   "display_name": "Python 3.8.5 64-bit ('cuda10': conda)",
   "name": "python3"
  },
  "language_info": {
   "codemirror_mode": {
    "name": "ipython",
    "version": 3
   },
   "file_extension": ".py",
   "mimetype": "text/x-python",
   "name": "python",
   "nbconvert_exporter": "python",
   "pygments_lexer": "ipython3",
   "version": "3.8.12"
  }
 },
 "nbformat": 4,
 "nbformat_minor": 4
}
