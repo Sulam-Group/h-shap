{
 "cells": [
  {
   "cell_type": "code",
   "execution_count": null,
   "metadata": {},
   "outputs": [],
   "source": [
    "import os\n",
    "import numpy as np\n",
    "import matplotlib.pyplot as plt\n",
    "import seaborn as sns\n",
    "from PIL import Image\n",
    "from tqdm import tqdm\n",
    "\n",
    "root_dir = \"../\"\n",
    "explanation_dir = os.path.join(root_dir, \"explanations\")\n",
    "data_dir = os.path.join(root_dir, \"data\")\n",
    "figure_dir = os.path.join(data_dir, \"figures\", \"full_ablations\")\n",
    "os.makedirs(figure_dir, exist_ok=True)\n",
    "\n",
    "exp_mapper = {\n",
    "    \"gradcam\": r\"Grad-CAM\",\n",
    "    \"lime\": r\"LIME\",\n",
    "    \"gradexp\": r\"GradientExp\",\n",
    "    \"deepexp\": r\"DeepExp\",\n",
    "    \"partexp/500\": r\"PartitionExp ($m = 500$)\",\n",
    "    \"partexp/64\": r\"PartitionExp ($m = 64$)\",\n",
    "    \"partexp/32\": r\"PartitionExp ($m = 32$)\",\n",
    "    \"partexp/16\": r\"PartitionExp ($m = 16$)\",\n",
    "    \"hexp/absolute_0\": r\"h-Shap ($\\tau = 0$)\",\n",
    "    \"hexp/relative_70\": r\"h-Shap ($\\tau=70\\%$)\",\n",
    "}\n",
    "\n",
    "true_positives = np.load(\n",
    "    os.path.join(explanation_dir, \"true_positive.npy\"), allow_pickle=True\n",
    ").item()"
   ]
  },
  {
   "cell_type": "code",
   "execution_count": null,
   "metadata": {},
   "outputs": [],
   "source": [
    "sns.set_context(\"paper\", font_scale=1.5)\n",
    "\n",
    "n = 6\n",
    "for i, image_path in enumerate(tqdm(true_positives[n][:5])):\n",
    "    image_name = os.path.basename(image_path).split(\".\")[0]\n",
    "\n",
    "    for exp_name, exp_title in exp_mapper.items():\n",
    "        image = Image.open(os.path.join(root_dir, image_path))\n",
    "        image = np.array(image)\n",
    "\n",
    "        explainer_dir = os.path.join(explanation_dir, exp_name)\n",
    "        explainer_figure_dir = os.path.join(figure_dir, exp_name)\n",
    "        os.makedirs(explainer_figure_dir, exist_ok=True)\n",
    "\n",
    "        explanation = np.load(os.path.join(explainer_dir, f\"{image_name}.npy\"))\n",
    "        image[explanation > 1e-06] = 255\n",
    "\n",
    "        _, ax = plt.subplots(1, 1)\n",
    "        ax.imshow(image)\n",
    "        ax.axes.xaxis.set_visible(False)\n",
    "        ax.axes.yaxis.set_visible(False)\n",
    "        ax.set_title(exp_title)\n",
    "\n",
    "        plt.savefig(\n",
    "            os.path.join(explainer_figure_dir, f\"{image_name}.jpg\"), bbox_inches=\"tight\"\n",
    "        )\n",
    "        plt.savefig(\n",
    "            os.path.join(explainer_figure_dir, f\"{image_name}.pdf\"), bbox_inches=\"tight\"\n",
    "        )\n",
    "        plt.close()"
   ]
  }
 ],
 "metadata": {
  "interpreter": {
   "hash": "b8833b0dbfb768408749f2ba8903da4aba400bf749cee87b409b014590f5cb3c"
  },
  "kernelspec": {
   "display_name": "Python 3.8.12 64-bit ('hshap': conda)",
   "language": "python",
   "name": "python3"
  },
  "language_info": {
   "codemirror_mode": {
    "name": "ipython",
    "version": 3
   },
   "file_extension": ".py",
   "mimetype": "text/x-python",
   "name": "python",
   "nbconvert_exporter": "python",
   "pygments_lexer": "ipython3",
   "version": "3.8.12"
  }
 },
 "nbformat": 4,
 "nbformat_minor": 2
}
