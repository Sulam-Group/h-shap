{
 "cells": [
  {
   "cell_type": "code",
   "execution_count": null,
   "metadata": {},
   "outputs": [],
   "source": [
    "import os\n",
    "import numpy as np\n",
    "import pandas as pd\n",
    "import matplotlib.pyplot as plt\n",
    "import seaborn as sns\n",
    "from tqdm import tqdm\n",
    "\n",
    "root_dir = \"../\"\n",
    "explanation_dir = os.path.join(root_dir, \"explanations\")\n",
    "data_dir = os.path.join(root_dir, \"data\")\n",
    "figure_dir = os.path.join(data_dir, \"figures\", \"ablation_curves\")\n",
    "os.makedirs(figure_dir, exist_ok=True)\n",
    "\n",
    "exp_mapper = {\n",
    "    \"gradcam\": r\"Grad-CAM\",\n",
    "    \"lime\": r\"LIME\",\n",
    "    \"gradexp\": r\"GradientExp\",\n",
    "    \"deepexp\": r\"DeepExp\",\n",
    "    \"partexp/500\": r\"PartitionExp ($m = 500$)\",\n",
    "    \"partexp/64\": r\"PartitionExp ($m = 64$)\",\n",
    "    \"partexp/32\": r\"PartitionExp ($m = 32$)\",\n",
    "    \"partexp/16\": r\"PartitionExp ($m = 16$)\",\n",
    "    \"hexp/absolute_0\": r\"h-Shap ($\\tau = 0$)\",\n",
    "    \"hexp/relative_70\": r\"h-Shap ($\\tau=70\\%$)\",\n",
    "}\n",
    "\n",
    "true_positives = np.load(\n",
    "    os.path.join(explanation_dir, \"true_positive.npy\"), allow_pickle=True\n",
    ").item()"
   ]
  },
  {
   "cell_type": "code",
   "execution_count": null,
   "metadata": {},
   "outputs": [],
   "source": [
    "sns.set_theme(font_scale=1.5)\n",
    "sns.set_context(\"paper\")\n",
    "\n",
    "for n in [1, 6]:\n",
    "    df_clips = []\n",
    "    for exp_name in tqdm(exp_mapper.keys()):\n",
    "        df = pd.read_csv(\n",
    "            os.path.join(explanation_dir, exp_name, f\"ablation_curves_{n}.csv\")\n",
    "        )\n",
    "        df_clips.append(df)\n",
    "    df = pd.concat(df_clips)\n",
    "    df.set_index(\"index\", inplace=True)\n",
    "\n",
    "    sns.lineplot(\n",
    "        data=df,\n",
    "        x=\"size\",\n",
    "        y=\"logit\",\n",
    "        hue=\"exp_title\",\n",
    "        err_style=\"band\",\n",
    "        ci=95,\n",
    "    )\n",
    "    plt.xlabel(\"Fraction of image ablated\")\n",
    "    plt.ylabel(\"Ablated logit as a fraction of original logit\")\n",
    "    plt.title(r\"$n = %d$\" % n)\n",
    "    legend = plt.legend(bbox_to_anchor=(1.04, 1), loc=\"upper left\", title=r\"Explainer\")\n",
    "\n",
    "    plt.savefig(\n",
    "        os.path.join(figure_dir, f\"ablation_curves_{n}.jpg\"), bbox_inches=\"tight\"\n",
    "    )\n",
    "    plt.savefig(\n",
    "        os.path.join(figure_dir, f\"ablation_curves_{n}.pdf\"), bbox_inches=\"tight\"\n",
    "    )\n",
    "    plt.show()\n",
    "    plt.close()"
   ]
  },
  {
   "cell_type": "code",
   "execution_count": null,
   "metadata": {},
   "outputs": [],
   "source": []
  }
 ],
 "metadata": {
  "interpreter": {
   "hash": "b8833b0dbfb768408749f2ba8903da4aba400bf749cee87b409b014590f5cb3c"
  },
  "kernelspec": {
   "display_name": "Python 3.8.12 64-bit ('hshap': conda)",
   "language": "python",
   "name": "python3"
  },
  "language_info": {
   "codemirror_mode": {
    "name": "ipython",
    "version": 3
   },
   "file_extension": ".py",
   "mimetype": "text/x-python",
   "name": "python",
   "nbconvert_exporter": "python",
   "pygments_lexer": "ipython3",
   "version": "3.8.12"
  }
 },
 "nbformat": 4,
 "nbformat_minor": 2
}
